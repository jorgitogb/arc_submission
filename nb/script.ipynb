{
 "cells": [
  {
   "cell_type": "code",
   "execution_count": 4,
   "metadata": {},
   "outputs": [
    {
     "ename": "ImportError",
     "evalue": "cannot import name 'JsonController' from 'arctrl.arctrl' (c:\\Users\\brizuela\\workspace\\arc_submission\\.venv\\Lib\\site-packages\\arctrl\\arctrl.py)",
     "output_type": "error",
     "traceback": [
      "\u001b[1;31m---------------------------------------------------------------------------\u001b[0m",
      "\u001b[1;31mImportError\u001b[0m                               Traceback (most recent call last)",
      "Cell \u001b[1;32mIn[4], line 3\u001b[0m\n\u001b[0;32m      1\u001b[0m \u001b[38;5;28;01mfrom\u001b[39;00m \u001b[38;5;21;01mpyld\u001b[39;00m \u001b[38;5;28;01mimport\u001b[39;00m jsonld\n\u001b[0;32m      2\u001b[0m \u001b[38;5;28;01mfrom\u001b[39;00m \u001b[38;5;21;01marctrl\u001b[39;00m\u001b[38;5;21;01m.\u001b[39;00m\u001b[38;5;21;01marc\u001b[39;00m \u001b[38;5;28;01mimport\u001b[39;00m ARC\n\u001b[1;32m----> 3\u001b[0m \u001b[38;5;28;01mfrom\u001b[39;00m \u001b[38;5;21;01marctrl\u001b[39;00m\u001b[38;5;21;01m.\u001b[39;00m\u001b[38;5;21;01marctrl\u001b[39;00m \u001b[38;5;28;01mimport\u001b[39;00m JsonController\n\u001b[0;32m      4\u001b[0m \u001b[38;5;28;01mimport\u001b[39;00m \u001b[38;5;21;01mjson\u001b[39;00m\n",
      "\u001b[1;31mImportError\u001b[0m: cannot import name 'JsonController' from 'arctrl.arctrl' (c:\\Users\\brizuela\\workspace\\arc_submission\\.venv\\Lib\\site-packages\\arctrl\\arctrl.py)"
     ]
    }
   ],
   "source": [
    "from pyld import jsonld\n",
    "from arctrl.arc import ARC\n",
    "from arctrl.arctrl import JsonController\n",
    "import json"
   ]
  },
  {
   "cell_type": "code",
   "execution_count": 1,
   "metadata": {},
   "outputs": [
    {
     "ename": "ImportError",
     "evalue": "cannot import name 'JsonController' from 'arctrl.arctrl' (c:\\Users\\brizuela\\workspace\\arc_submission\\.venv\\Lib\\site-packages\\arctrl\\arctrl.py)",
     "output_type": "error",
     "traceback": [
      "\u001b[1;31m---------------------------------------------------------------------------\u001b[0m",
      "\u001b[1;31mImportError\u001b[0m                               Traceback (most recent call last)",
      "Cell \u001b[1;32mIn[1], line 2\u001b[0m\n\u001b[0;32m      1\u001b[0m \u001b[38;5;28;01mfrom\u001b[39;00m \u001b[38;5;21;01mpyld\u001b[39;00m \u001b[38;5;28;01mimport\u001b[39;00m jsonld\n\u001b[1;32m----> 2\u001b[0m \u001b[38;5;28;01mfrom\u001b[39;00m \u001b[38;5;21;01marctrl\u001b[39;00m\u001b[38;5;21;01m.\u001b[39;00m\u001b[38;5;21;01marctrl\u001b[39;00m \u001b[38;5;28;01mimport\u001b[39;00m JsonController\n\u001b[0;32m      3\u001b[0m \u001b[38;5;28;01mimport\u001b[39;00m \u001b[38;5;21;01mjson\u001b[39;00m\n\u001b[0;32m      5\u001b[0m \u001b[38;5;28;01mwith\u001b[39;00m \u001b[38;5;28mopen\u001b[39m(\u001b[38;5;124m'\u001b[39m\u001b[38;5;124mdataset.jsonld\u001b[39m\u001b[38;5;124m'\u001b[39m, \u001b[38;5;124m'\u001b[39m\u001b[38;5;124mr\u001b[39m\u001b[38;5;124m'\u001b[39m) \u001b[38;5;28;01mas\u001b[39;00m f:\n",
      "\u001b[1;31mImportError\u001b[0m: cannot import name 'JsonController' from 'arctrl.arctrl' (c:\\Users\\brizuela\\workspace\\arc_submission\\.venv\\Lib\\site-packages\\arctrl\\arctrl.py)"
     ]
    }
   ],
   "source": [
    "from pyld import jsonld\n",
    "from arctrl.arctrl import JsonController\n",
    "import json\n",
    "\n",
    "with open('dataset.jsonld', 'r') as f:\n",
    "    dataset = json.loads(f.read())\n",
    "\n",
    "with open('context.jsonld', 'r') as f:\n",
    "    context = json.loads(f.read())\n",
    "\n",
    "expanded = jsonld.expand(dataset)\n",
    "compacted = jsonld.compact(expanded, context)\n",
    "\n",
    "arc = JsonController.Investigation().from_json_string(compacted)"
   ]
  },
  {
   "cell_type": "code",
   "execution_count": null,
   "metadata": {},
   "outputs": [],
   "source": []
  }
 ],
 "metadata": {
  "kernelspec": {
   "display_name": ".venv",
   "language": "python",
   "name": "python3"
  },
  "language_info": {
   "codemirror_mode": {
    "name": "ipython",
    "version": 3
   },
   "file_extension": ".py",
   "mimetype": "text/x-python",
   "name": "python",
   "nbconvert_exporter": "python",
   "pygments_lexer": "ipython3",
   "version": "3.11.0"
  }
 },
 "nbformat": 4,
 "nbformat_minor": 2
}
